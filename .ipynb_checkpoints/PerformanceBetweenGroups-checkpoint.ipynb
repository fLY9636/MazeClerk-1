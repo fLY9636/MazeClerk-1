{
 "cells": [
  {
   "cell_type": "markdown",
   "metadata": {},
   "source": [
    "# Performance between Groups\n",
    "\n"
   ]
  },
  {
   "cell_type": "code",
   "execution_count": 1,
   "metadata": {},
   "outputs": [
    {
     "name": "stderr",
     "output_type": "stream",
     "text": [
      "C:\\Users\\hp\\Anaconda3\\lib\\site-packages\\statsmodels\\tools\\_testing.py:19: FutureWarning: pandas.util.testing is deprecated. Use the functions in the public API at pandas.testing instead.\n",
      "  import pandas.util.testing as tm\n"
     ]
    }
   ],
   "source": [
    "import lib.Mouse as Mouse\n",
    "import pandas as pd\n",
    "import numpy as np\n",
    "import matplotlib.pyplot as plt\n",
    "import seaborn as sns\n",
    "import datetime"
   ]
  },
  {
   "cell_type": "code",
   "execution_count": 2,
   "metadata": {},
   "outputs": [
    {
     "data": {
      "text/html": [
       "<div>\n",
       "<style scoped>\n",
       "    .dataframe tbody tr th:only-of-type {\n",
       "        vertical-align: middle;\n",
       "    }\n",
       "\n",
       "    .dataframe tbody tr th {\n",
       "        vertical-align: top;\n",
       "    }\n",
       "\n",
       "    .dataframe thead th {\n",
       "        text-align: right;\n",
       "    }\n",
       "</style>\n",
       "<table border=\"1\" class=\"dataframe\">\n",
       "  <thead>\n",
       "    <tr style=\"text-align: right;\">\n",
       "      <th></th>\n",
       "      <th>Mouse ID</th>\n",
       "      <th>Genotype</th>\n",
       "      <th>Gender</th>\n",
       "      <th>Line</th>\n",
       "      <th>TgSWDI</th>\n",
       "      <th>Genotype 2</th>\n",
       "      <th>Genotype 3</th>\n",
       "      <th>Father</th>\n",
       "      <th>Mother</th>\n",
       "      <th>DOB</th>\n",
       "      <th>...</th>\n",
       "      <th>Estimated Delivery Date</th>\n",
       "      <th>Delivery Date</th>\n",
       "      <th>Ween</th>\n",
       "      <th>Male Status</th>\n",
       "      <th>Breeding Status</th>\n",
       "      <th>Maze Configuration</th>\n",
       "      <th>Treatment Group</th>\n",
       "      <th>Virus Implantation</th>\n",
       "      <th>Experimental Status</th>\n",
       "      <th>Unnamed: 22</th>\n",
       "    </tr>\n",
       "  </thead>\n",
       "  <tbody>\n",
       "    <tr>\n",
       "      <th>0</th>\n",
       "      <td>170</td>\n",
       "      <td>Tg-SwDI</td>\n",
       "      <td>M</td>\n",
       "      <td>Tg-SwDI</td>\n",
       "      <td>Pos</td>\n",
       "      <td>NaN</td>\n",
       "      <td>NaN</td>\n",
       "      <td>Tg-SwDI (116)</td>\n",
       "      <td>Tg-SwDI (117)</td>\n",
       "      <td>2019-08-02</td>\n",
       "      <td>...</td>\n",
       "      <td>NaN</td>\n",
       "      <td>NaN</td>\n",
       "      <td>NaN</td>\n",
       "      <td>NaN</td>\n",
       "      <td>NaN</td>\n",
       "      <td>ABFG</td>\n",
       "      <td>--</td>\n",
       "      <td>--</td>\n",
       "      <td>Testing</td>\n",
       "      <td>NaN</td>\n",
       "    </tr>\n",
       "    <tr>\n",
       "      <th>1</th>\n",
       "      <td>171</td>\n",
       "      <td>Tg-SwDI</td>\n",
       "      <td>M</td>\n",
       "      <td>Tg-SwDI</td>\n",
       "      <td>Pos</td>\n",
       "      <td>NaN</td>\n",
       "      <td>NaN</td>\n",
       "      <td>Tg-SwDI (116)</td>\n",
       "      <td>Tg-SwDI (117)</td>\n",
       "      <td>2019-08-02</td>\n",
       "      <td>...</td>\n",
       "      <td>NaN</td>\n",
       "      <td>NaN</td>\n",
       "      <td>NaN</td>\n",
       "      <td>NaN</td>\n",
       "      <td>NaN</td>\n",
       "      <td>ABFG</td>\n",
       "      <td>--</td>\n",
       "      <td>--</td>\n",
       "      <td>Testing</td>\n",
       "      <td>NaN</td>\n",
       "    </tr>\n",
       "    <tr>\n",
       "      <th>2</th>\n",
       "      <td>224</td>\n",
       "      <td>Tg-SwDI</td>\n",
       "      <td>M</td>\n",
       "      <td>Tg-SwDI x ThCre</td>\n",
       "      <td>Pos</td>\n",
       "      <td>Neg</td>\n",
       "      <td>NaN</td>\n",
       "      <td>Tg-SwDI(116)</td>\n",
       "      <td>ThCre(71/99)</td>\n",
       "      <td>2019-08-24</td>\n",
       "      <td>...</td>\n",
       "      <td>NaN</td>\n",
       "      <td>NaN</td>\n",
       "      <td>NaN</td>\n",
       "      <td>NaN</td>\n",
       "      <td>NaN</td>\n",
       "      <td>ABFG</td>\n",
       "      <td>--</td>\n",
       "      <td>--</td>\n",
       "      <td>Testing</td>\n",
       "      <td>NaN</td>\n",
       "    </tr>\n",
       "    <tr>\n",
       "      <th>3</th>\n",
       "      <td>225</td>\n",
       "      <td>Tg-SwDI</td>\n",
       "      <td>M</td>\n",
       "      <td>Tg-SwDI x ThCre</td>\n",
       "      <td>Pos</td>\n",
       "      <td>Neg</td>\n",
       "      <td>NaN</td>\n",
       "      <td>Tg-SwDI(116)</td>\n",
       "      <td>ThCre(71/99)</td>\n",
       "      <td>2019-08-24</td>\n",
       "      <td>...</td>\n",
       "      <td>NaN</td>\n",
       "      <td>NaN</td>\n",
       "      <td>NaN</td>\n",
       "      <td>NaN</td>\n",
       "      <td>NaN</td>\n",
       "      <td>ABFG</td>\n",
       "      <td>--</td>\n",
       "      <td>--</td>\n",
       "      <td>Testing</td>\n",
       "      <td>NaN</td>\n",
       "    </tr>\n",
       "    <tr>\n",
       "      <th>4</th>\n",
       "      <td>233</td>\n",
       "      <td>Tg-SwDI</td>\n",
       "      <td>M</td>\n",
       "      <td>Tg-SwDI x ThCre</td>\n",
       "      <td>Pos</td>\n",
       "      <td>Neg</td>\n",
       "      <td>NaN</td>\n",
       "      <td>Tg-SwDI(116)</td>\n",
       "      <td>ThCre(71/99)</td>\n",
       "      <td>2019-08-24</td>\n",
       "      <td>...</td>\n",
       "      <td>NaN</td>\n",
       "      <td>NaN</td>\n",
       "      <td>NaN</td>\n",
       "      <td>NaN</td>\n",
       "      <td>NaN</td>\n",
       "      <td>ABFG</td>\n",
       "      <td>--</td>\n",
       "      <td>--</td>\n",
       "      <td>Testing</td>\n",
       "      <td>NaN</td>\n",
       "    </tr>\n",
       "  </tbody>\n",
       "</table>\n",
       "<p>5 rows × 23 columns</p>\n",
       "</div>"
      ],
      "text/plain": [
       "  Mouse ID Genotype Gender             Line TgSWDI Genotype 2 Genotype 3  \\\n",
       "0      170  Tg-SwDI      M          Tg-SwDI    Pos        NaN        NaN   \n",
       "1      171  Tg-SwDI      M          Tg-SwDI    Pos        NaN        NaN   \n",
       "2      224  Tg-SwDI      M  Tg-SwDI x ThCre    Pos        Neg        NaN   \n",
       "3      225  Tg-SwDI      M  Tg-SwDI x ThCre    Pos        Neg        NaN   \n",
       "4      233  Tg-SwDI      M  Tg-SwDI x ThCre    Pos        Neg        NaN   \n",
       "\n",
       "          Father         Mother         DOB  ...  Estimated Delivery Date  \\\n",
       "0  Tg-SwDI (116)  Tg-SwDI (117)  2019-08-02  ...                      NaN   \n",
       "1  Tg-SwDI (116)  Tg-SwDI (117)  2019-08-02  ...                      NaN   \n",
       "2   Tg-SwDI(116)   ThCre(71/99)  2019-08-24  ...                      NaN   \n",
       "3   Tg-SwDI(116)   ThCre(71/99)  2019-08-24  ...                      NaN   \n",
       "4   Tg-SwDI(116)   ThCre(71/99)  2019-08-24  ...                      NaN   \n",
       "\n",
       "   Delivery Date  Ween  Male Status  Breeding Status  Maze Configuration  \\\n",
       "0            NaN   NaN          NaN              NaN                ABFG   \n",
       "1            NaN   NaN          NaN              NaN                ABFG   \n",
       "2            NaN   NaN          NaN              NaN                ABFG   \n",
       "3            NaN   NaN          NaN              NaN                ABFG   \n",
       "4            NaN   NaN          NaN              NaN                ABFG   \n",
       "\n",
       "   Treatment Group  Virus Implantation Experimental Status Unnamed: 22  \n",
       "0               --                  --             Testing         NaN  \n",
       "1               --                  --             Testing         NaN  \n",
       "2               --                  --             Testing         NaN  \n",
       "3               --                  --             Testing         NaN  \n",
       "4               --                  --             Testing         NaN  \n",
       "\n",
       "[5 rows x 23 columns]"
      ]
     },
     "execution_count": 2,
     "metadata": {},
     "output_type": "execute_result"
    }
   ],
   "source": [
    "primary_data = pd.read_csv(r'./data/table1.csv')\n",
    "primary_data.head()"
   ]
  },
  {
   "cell_type": "code",
   "execution_count": 3,
   "metadata": {},
   "outputs": [],
   "source": [
    "primary_data['Age(wks)'] = np.empty_like(primary_data['Mouse ID'])\n",
    "today = pd.to_datetime(str(datetime.date.today()))\n",
    "\n",
    "for i in list(primary_data.index):\n",
    "    dob = pd.to_datetime(str(primary_data['DOB'][i]))\n",
    "    primary_data['Age(days)'] = today - dob"
   ]
  },
  {
   "cell_type": "code",
   "execution_count": null,
   "metadata": {},
   "outputs": [],
   "source": []
  },
  {
   "cell_type": "markdown",
   "metadata": {},
   "source": [
    "### Grouping"
   ]
  },
  {
   "cell_type": "markdown",
   "metadata": {},
   "source": [
    "Genotype Groups:\n",
    "    1. Tg-SwDI+\n",
    "    2. Th-Cre+\n",
    "    3. Tg-SwDI+ x Th-Cre+ low dose group\n",
    "    4. Tg-SwDI+ x Th-Cre+ high dose group"
   ]
  },
  {
   "cell_type": "code",
   "execution_count": 42,
   "metadata": {},
   "outputs": [
    {
     "ename": "KeyError",
     "evalue": "'Age'",
     "output_type": "error",
     "traceback": [
      "\u001b[1;31m---------------------------------------------------------------------------\u001b[0m",
      "\u001b[1;31mKeyError\u001b[0m                                  Traceback (most recent call last)",
      "\u001b[1;32m<ipython-input-42-5059e1af941a>\u001b[0m in \u001b[0;36m<module>\u001b[1;34m\u001b[0m\n\u001b[1;32m----> 1\u001b[1;33m \u001b[0mgrouping\u001b[0m \u001b[1;33m=\u001b[0m \u001b[0mprimary_data\u001b[0m\u001b[1;33m.\u001b[0m\u001b[0mgroupby\u001b[0m\u001b[1;33m(\u001b[0m\u001b[1;33m[\u001b[0m\u001b[1;34m'Genotype'\u001b[0m\u001b[1;33m,\u001b[0m\u001b[1;34m'Age'\u001b[0m\u001b[1;33m]\u001b[0m\u001b[1;33m)\u001b[0m\u001b[1;33m.\u001b[0m\u001b[0mmean\u001b[0m\u001b[1;33m(\u001b[0m\u001b[1;33m)\u001b[0m\u001b[1;33m\u001b[0m\u001b[1;33m\u001b[0m\u001b[0m\n\u001b[0m\u001b[0;32m      2\u001b[0m \u001b[0mgrouping\u001b[0m\u001b[1;33m\u001b[0m\u001b[1;33m\u001b[0m\u001b[0m\n",
      "\u001b[1;32m~\\Anaconda3\\lib\\site-packages\\pandas\\core\\frame.py\u001b[0m in \u001b[0;36mgroupby\u001b[1;34m(self, by, axis, level, as_index, sort, group_keys, squeeze, observed)\u001b[0m\n\u001b[0;32m   5808\u001b[0m             \u001b[0mgroup_keys\u001b[0m\u001b[1;33m=\u001b[0m\u001b[0mgroup_keys\u001b[0m\u001b[1;33m,\u001b[0m\u001b[1;33m\u001b[0m\u001b[1;33m\u001b[0m\u001b[0m\n\u001b[0;32m   5809\u001b[0m             \u001b[0msqueeze\u001b[0m\u001b[1;33m=\u001b[0m\u001b[0msqueeze\u001b[0m\u001b[1;33m,\u001b[0m\u001b[1;33m\u001b[0m\u001b[1;33m\u001b[0m\u001b[0m\n\u001b[1;32m-> 5810\u001b[1;33m             \u001b[0mobserved\u001b[0m\u001b[1;33m=\u001b[0m\u001b[0mobserved\u001b[0m\u001b[1;33m,\u001b[0m\u001b[1;33m\u001b[0m\u001b[1;33m\u001b[0m\u001b[0m\n\u001b[0m\u001b[0;32m   5811\u001b[0m         )\n\u001b[0;32m   5812\u001b[0m \u001b[1;33m\u001b[0m\u001b[0m\n",
      "\u001b[1;32m~\\Anaconda3\\lib\\site-packages\\pandas\\core\\groupby\\groupby.py\u001b[0m in \u001b[0;36m__init__\u001b[1;34m(self, obj, keys, axis, level, grouper, exclusions, selection, as_index, sort, group_keys, squeeze, observed, mutated)\u001b[0m\n\u001b[0;32m    407\u001b[0m                 \u001b[0msort\u001b[0m\u001b[1;33m=\u001b[0m\u001b[0msort\u001b[0m\u001b[1;33m,\u001b[0m\u001b[1;33m\u001b[0m\u001b[1;33m\u001b[0m\u001b[0m\n\u001b[0;32m    408\u001b[0m                 \u001b[0mobserved\u001b[0m\u001b[1;33m=\u001b[0m\u001b[0mobserved\u001b[0m\u001b[1;33m,\u001b[0m\u001b[1;33m\u001b[0m\u001b[1;33m\u001b[0m\u001b[0m\n\u001b[1;32m--> 409\u001b[1;33m                 \u001b[0mmutated\u001b[0m\u001b[1;33m=\u001b[0m\u001b[0mself\u001b[0m\u001b[1;33m.\u001b[0m\u001b[0mmutated\u001b[0m\u001b[1;33m,\u001b[0m\u001b[1;33m\u001b[0m\u001b[1;33m\u001b[0m\u001b[0m\n\u001b[0m\u001b[0;32m    410\u001b[0m             )\n\u001b[0;32m    411\u001b[0m \u001b[1;33m\u001b[0m\u001b[0m\n",
      "\u001b[1;32m~\\Anaconda3\\lib\\site-packages\\pandas\\core\\groupby\\grouper.py\u001b[0m in \u001b[0;36mget_grouper\u001b[1;34m(obj, key, axis, level, sort, observed, mutated, validate)\u001b[0m\n\u001b[0;32m    596\u001b[0m                 \u001b[0min_axis\u001b[0m\u001b[1;33m,\u001b[0m \u001b[0mname\u001b[0m\u001b[1;33m,\u001b[0m \u001b[0mlevel\u001b[0m\u001b[1;33m,\u001b[0m \u001b[0mgpr\u001b[0m \u001b[1;33m=\u001b[0m \u001b[1;32mFalse\u001b[0m\u001b[1;33m,\u001b[0m \u001b[1;32mNone\u001b[0m\u001b[1;33m,\u001b[0m \u001b[0mgpr\u001b[0m\u001b[1;33m,\u001b[0m \u001b[1;32mNone\u001b[0m\u001b[1;33m\u001b[0m\u001b[1;33m\u001b[0m\u001b[0m\n\u001b[0;32m    597\u001b[0m             \u001b[1;32melse\u001b[0m\u001b[1;33m:\u001b[0m\u001b[1;33m\u001b[0m\u001b[1;33m\u001b[0m\u001b[0m\n\u001b[1;32m--> 598\u001b[1;33m                 \u001b[1;32mraise\u001b[0m \u001b[0mKeyError\u001b[0m\u001b[1;33m(\u001b[0m\u001b[0mgpr\u001b[0m\u001b[1;33m)\u001b[0m\u001b[1;33m\u001b[0m\u001b[1;33m\u001b[0m\u001b[0m\n\u001b[0m\u001b[0;32m    599\u001b[0m         \u001b[1;32melif\u001b[0m \u001b[0misinstance\u001b[0m\u001b[1;33m(\u001b[0m\u001b[0mgpr\u001b[0m\u001b[1;33m,\u001b[0m \u001b[0mGrouper\u001b[0m\u001b[1;33m)\u001b[0m \u001b[1;32mand\u001b[0m \u001b[0mgpr\u001b[0m\u001b[1;33m.\u001b[0m\u001b[0mkey\u001b[0m \u001b[1;32mis\u001b[0m \u001b[1;32mnot\u001b[0m \u001b[1;32mNone\u001b[0m\u001b[1;33m:\u001b[0m\u001b[1;33m\u001b[0m\u001b[1;33m\u001b[0m\u001b[0m\n\u001b[0;32m    600\u001b[0m             \u001b[1;31m# Add key to exclusions\u001b[0m\u001b[1;33m\u001b[0m\u001b[1;33m\u001b[0m\u001b[1;33m\u001b[0m\u001b[0m\n",
      "\u001b[1;31mKeyError\u001b[0m: 'Age'"
     ]
    }
   ],
   "source": [
    "grouping = primary_data.groupby(['Genotype','Age']).mean()\n",
    "grouping"
   ]
  },
  {
   "cell_type": "code",
   "execution_count": null,
   "metadata": {},
   "outputs": [],
   "source": [
    "df_1 = df[df['Mouse ID']==177]\n",
    "df_1"
   ]
  },
  {
   "cell_type": "markdown",
   "metadata": {},
   "source": [
    "### Explore the components"
   ]
  },
  {
   "cell_type": "code",
   "execution_count": null,
   "metadata": {},
   "outputs": [],
   "source": [
    "# bar plot and pie chart\n"
   ]
  },
  {
   "cell_type": "markdown",
   "metadata": {},
   "source": [
    "### Genotype Weekly Performance"
   ]
  },
  {
   "cell_type": "code",
   "execution_count": 40,
   "metadata": {},
   "outputs": [],
   "source": [
    "trial_data = pd.read_csv(r'C:\\Users\\hp\\Desktop\\Clerk\\data\\table2.csv')"
   ]
  },
  {
   "cell_type": "code",
   "execution_count": 21,
   "metadata": {},
   "outputs": [],
   "source": [
    "#boxplot\n"
   ]
  },
  {
   "cell_type": "code",
   "execution_count": null,
   "metadata": {},
   "outputs": [],
   "source": []
  },
  {
   "cell_type": "code",
   "execution_count": null,
   "metadata": {},
   "outputs": [],
   "source": []
  },
  {
   "cell_type": "code",
   "execution_count": null,
   "metadata": {},
   "outputs": [],
   "source": []
  }
 ],
 "metadata": {
  "kernelspec": {
   "display_name": "Python 3",
   "language": "python",
   "name": "python3"
  },
  "language_info": {
   "codemirror_mode": {
    "name": "ipython",
    "version": 3
   },
   "file_extension": ".py",
   "mimetype": "text/x-python",
   "name": "python",
   "nbconvert_exporter": "python",
   "pygments_lexer": "ipython3",
   "version": "3.7.4"
  }
 },
 "nbformat": 4,
 "nbformat_minor": 2
}
