{
 "cells": [
  {
   "cell_type": "markdown",
   "metadata": {},
   "source": [
    "# Batch Process\n",
    "\n",
    "Run this notebook at the end of a day's training. An email will be sent when exception raises.\n",
    "\n"
   ]
  },
  {
   "cell_type": "code",
   "execution_count": null,
   "metadata": {},
   "outputs": [],
   "source": []
  },
  {
   "cell_type": "code",
   "execution_count": 1,
   "metadata": {},
   "outputs": [],
   "source": [
    "import logging\n",
    "import logging.handlers\n",
    "\n",
    "smtp_handler = logging.handlers.SMTPHandler(mailhost=(\"smtp.example.com\", 25),\n",
    "                                            fromaddr=\"zoehcycy@163.com\", \n",
    "                                            toaddrs=\"zoehcycy@gmail.com\",\n",
    "                                            subject=u\"Unhandled Exception!\")\n",
    "\n",
    "\n",
    "logger = logging.getLogger()\n",
    "logger.addHandler(smtp_handler)"
   ]
  },
  {
   "cell_type": "code",
   "execution_count": null,
   "metadata": {},
   "outputs": [],
   "source": [
    "\n",
    "\n",
    "try:\n",
    "    break\n",
    "except Exception as e:\n",
    "    logger.exception('Unhandled Exception')"
   ]
  }
 ],
 "metadata": {
  "kernelspec": {
   "display_name": "Python 3",
   "language": "python",
   "name": "python3"
  },
  "language_info": {
   "codemirror_mode": {
    "name": "ipython",
    "version": 3
   },
   "file_extension": ".py",
   "mimetype": "text/x-python",
   "name": "python",
   "nbconvert_exporter": "python",
   "pygments_lexer": "ipython3",
   "version": "3.7.4"
  }
 },
 "nbformat": 4,
 "nbformat_minor": 2
}
