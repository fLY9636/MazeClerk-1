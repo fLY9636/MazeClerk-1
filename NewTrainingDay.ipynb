{
 "cells": [
  {
   "cell_type": "markdown",
   "metadata": {},
   "source": [
    "# Step 1: Trials Today\n",
    "\n",
    "Run cell 1 to build a gui. Input:\n",
    "\n",
    "- Date\n",
    "- Mouse ID (numbers only)\n",
    "- Weight\n",
    "\n",
    "Weigh all mice before training and enter the data. Click on `Next` to enter next one, and `Close` to create a new file for today."
   ]
  },
  {
   "cell_type": "code",
   "execution_count": 1,
   "metadata": {},
   "outputs": [],
   "source": [
    "import lib.gui as gui\n",
    "\n",
    "# home path \n",
    "home = 'C:\\\\Users\\\\hp\\\\Desktop\\\\Clerk'\n",
    "\n",
    "gui = gui.GUI(home)     #'.' stands for home path\n",
    "gui.run()"
   ]
  },
  {
   "cell_type": "markdown",
   "metadata": {},
   "source": [
    "\n",
    "- Baited Arms Retrieved\n",
    "- Notes\n"
   ]
  },
  {
   "cell_type": "code",
   "execution_count": 2,
   "metadata": {},
   "outputs": [],
   "source": []
  },
  {
   "cell_type": "code",
   "execution_count": null,
   "metadata": {},
   "outputs": [],
   "source": []
  }
 ],
 "metadata": {
  "kernelspec": {
   "display_name": "Python 3",
   "language": "python",
   "name": "python3"
  },
  "language_info": {
   "codemirror_mode": {
    "name": "ipython",
    "version": 3
   },
   "file_extension": ".py",
   "mimetype": "text/x-python",
   "name": "python",
   "nbconvert_exporter": "python",
   "pygments_lexer": "ipython3",
   "version": "3.7.4"
  }
 },
 "nbformat": 4,
 "nbformat_minor": 2
}
